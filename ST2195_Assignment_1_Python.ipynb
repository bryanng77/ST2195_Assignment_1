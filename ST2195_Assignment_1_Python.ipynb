{
 "cells": [
  {
   "cell_type": "code",
   "execution_count": 1,
   "id": "3ed8f4ff",
   "metadata": {},
   "outputs": [
    {
     "name": "stdout",
     "output_type": "stream",
     "text": [
      "Hello everyone, I am excited to learn Python and show everyone what I can do with it! \n",
      "In the meantime, take care and stay safe. \n"
     ]
    }
   ],
   "source": [
    "print('''Hello everyone, I am excited to learn Python and show everyone what I can do with it! \n",
    "In the meantime, take care and stay safe. ''')"
   ]
  },
  {
   "cell_type": "code",
   "execution_count": 3,
   "id": "6cd068c4",
   "metadata": {
    "scrolled": true
   },
   "outputs": [
    {
     "name": "stdout",
     "output_type": "stream",
     "text": [
      "1\n",
      "2\n",
      "3\n",
      "4\n",
      "5\n",
      "6\n",
      "7\n",
      "8\n",
      "9\n",
      "10\n"
     ]
    }
   ],
   "source": [
    "# Prints all integers between 1 and 10 (including 1 and 10) to screen \n",
    "# 1 point – an extra point is awarded if this is done with a for loop. \n",
    "# In order to use the for loop, we will need to use the range() function.\n",
    "\n",
    "for i in range(1,11):\n",
    "    print(i)"
   ]
  }
 ],
 "metadata": {
  "kernelspec": {
   "display_name": "Python 3 (ipykernel)",
   "language": "python",
   "name": "python3"
  },
  "language_info": {
   "codemirror_mode": {
    "name": "ipython",
    "version": 3
   },
   "file_extension": ".py",
   "mimetype": "text/x-python",
   "name": "python",
   "nbconvert_exporter": "python",
   "pygments_lexer": "ipython3",
   "version": "3.8.2"
  }
 },
 "nbformat": 4,
 "nbformat_minor": 5
}
